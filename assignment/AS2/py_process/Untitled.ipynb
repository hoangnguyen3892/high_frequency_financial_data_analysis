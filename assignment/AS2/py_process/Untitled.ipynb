{
 "cells": [
  {
   "cell_type": "code",
   "execution_count": 1,
   "metadata": {
    "collapsed": true
   },
   "outputs": [],
   "source": [
    "import pandas as pd\n",
    "import matplotlib.pyplot as plt\n",
    "import seaborn as sns\n",
    "\n",
    "%matplotlib inline"
   ]
  },
  {
   "cell_type": "markdown",
   "metadata": {},
   "source": [
    "# Load data"
   ]
  },
  {
   "cell_type": "code",
   "execution_count": 2,
   "metadata": {
    "collapsed": false
   },
   "outputs": [],
   "source": [
    "trade = pd.read_excel('../data/trade.xlsx')\n",
    "quote = pd.read_excel('../data/quote.xlsx')\n",
    "nbbo = pd.read_excel('../data/nbbo.xlsx')"
   ]
  },
  {
   "cell_type": "code",
   "execution_count": 3,
   "metadata": {
    "collapsed": false
   },
   "outputs": [
    {
     "data": {
      "text/html": [
       "<div>\n",
       "<table border=\"1\" class=\"dataframe\">\n",
       "  <thead>\n",
       "    <tr style=\"text-align: right;\">\n",
       "      <th></th>\n",
       "      <th>DATE</th>\n",
       "      <th>TIME_M</th>\n",
       "      <th>EX</th>\n",
       "      <th>SYM_ROOT</th>\n",
       "      <th>SYM_SUFFIX</th>\n",
       "      <th>TR_SCOND</th>\n",
       "      <th>SIZE</th>\n",
       "      <th>PRICE</th>\n",
       "      <th>TR_STOPIND</th>\n",
       "      <th>TR_CORR</th>\n",
       "      <th>TR_SEQNUM</th>\n",
       "      <th>TR_SOURCE</th>\n",
       "      <th>TR_RF</th>\n",
       "    </tr>\n",
       "  </thead>\n",
       "  <tbody>\n",
       "    <tr>\n",
       "      <th>0</th>\n",
       "      <td>2013-06-06</td>\n",
       "      <td>09:30:00.766000</td>\n",
       "      <td>N</td>\n",
       "      <td>MUR</td>\n",
       "      <td>NaN</td>\n",
       "      <td>O</td>\n",
       "      <td>6523</td>\n",
       "      <td>62.99</td>\n",
       "      <td>N</td>\n",
       "      <td>0</td>\n",
       "      <td>2140</td>\n",
       "      <td>C</td>\n",
       "      <td>NaN</td>\n",
       "    </tr>\n",
       "    <tr>\n",
       "      <th>1</th>\n",
       "      <td>2013-06-06</td>\n",
       "      <td>09:30:31.239000</td>\n",
       "      <td>B</td>\n",
       "      <td>MUR</td>\n",
       "      <td>NaN</td>\n",
       "      <td>@</td>\n",
       "      <td>100</td>\n",
       "      <td>62.98</td>\n",
       "      <td>N</td>\n",
       "      <td>0</td>\n",
       "      <td>5188</td>\n",
       "      <td>C</td>\n",
       "      <td>NaN</td>\n",
       "    </tr>\n",
       "    <tr>\n",
       "      <th>2</th>\n",
       "      <td>2013-06-06</td>\n",
       "      <td>09:30:33.071000</td>\n",
       "      <td>J</td>\n",
       "      <td>MUR</td>\n",
       "      <td>NaN</td>\n",
       "      <td>@</td>\n",
       "      <td>100</td>\n",
       "      <td>62.80</td>\n",
       "      <td>N</td>\n",
       "      <td>0</td>\n",
       "      <td>5273</td>\n",
       "      <td>C</td>\n",
       "      <td>NaN</td>\n",
       "    </tr>\n",
       "    <tr>\n",
       "      <th>3</th>\n",
       "      <td>2013-06-06</td>\n",
       "      <td>09:30:33.088000</td>\n",
       "      <td>N</td>\n",
       "      <td>MUR</td>\n",
       "      <td>NaN</td>\n",
       "      <td>F</td>\n",
       "      <td>100</td>\n",
       "      <td>62.96</td>\n",
       "      <td>N</td>\n",
       "      <td>0</td>\n",
       "      <td>5274</td>\n",
       "      <td>C</td>\n",
       "      <td>NaN</td>\n",
       "    </tr>\n",
       "    <tr>\n",
       "      <th>4</th>\n",
       "      <td>2013-06-06</td>\n",
       "      <td>09:30:33.659000</td>\n",
       "      <td>T</td>\n",
       "      <td>MUR</td>\n",
       "      <td>NaN</td>\n",
       "      <td>Q</td>\n",
       "      <td>10</td>\n",
       "      <td>62.80</td>\n",
       "      <td>N</td>\n",
       "      <td>0</td>\n",
       "      <td>5319</td>\n",
       "      <td>C</td>\n",
       "      <td>NaN</td>\n",
       "    </tr>\n",
       "  </tbody>\n",
       "</table>\n",
       "</div>"
      ],
      "text/plain": [
       "        DATE           TIME_M EX SYM_ROOT  SYM_SUFFIX TR_SCOND  SIZE  PRICE  \\\n",
       "0 2013-06-06  09:30:00.766000  N      MUR         NaN        O  6523  62.99   \n",
       "1 2013-06-06  09:30:31.239000  B      MUR         NaN        @   100  62.98   \n",
       "2 2013-06-06  09:30:33.071000  J      MUR         NaN        @   100  62.80   \n",
       "3 2013-06-06  09:30:33.088000  N      MUR         NaN        F   100  62.96   \n",
       "4 2013-06-06  09:30:33.659000  T      MUR         NaN        Q    10  62.80   \n",
       "\n",
       "  TR_STOPIND  TR_CORR  TR_SEQNUM TR_SOURCE TR_RF  \n",
       "0          N        0       2140         C   NaN  \n",
       "1          N        0       5188         C   NaN  \n",
       "2          N        0       5273         C   NaN  \n",
       "3          N        0       5274         C   NaN  \n",
       "4          N        0       5319         C   NaN  "
      ]
     },
     "execution_count": 3,
     "metadata": {},
     "output_type": "execute_result"
    }
   ],
   "source": [
    "trade.head()"
   ]
  },
  {
   "cell_type": "code",
   "execution_count": 4,
   "metadata": {
    "collapsed": false
   },
   "outputs": [
    {
     "data": {
      "text/html": [
       "<div>\n",
       "<table border=\"1\" class=\"dataframe\">\n",
       "  <thead>\n",
       "    <tr style=\"text-align: right;\">\n",
       "      <th></th>\n",
       "      <th>DATE</th>\n",
       "      <th>TIME_M</th>\n",
       "      <th>EX</th>\n",
       "      <th>SYM_ROOT</th>\n",
       "      <th>SYM_SUFFIX</th>\n",
       "      <th>BID</th>\n",
       "      <th>BIDSIZ</th>\n",
       "      <th>ASK</th>\n",
       "      <th>ASKSIZ</th>\n",
       "      <th>QU_COND</th>\n",
       "      <th>...</th>\n",
       "      <th>QU_SEQNUM</th>\n",
       "      <th>NATBBO_IND</th>\n",
       "      <th>NASDBBO_IND</th>\n",
       "      <th>QU_CANCEL</th>\n",
       "      <th>QU_SOURCE</th>\n",
       "      <th>RPI</th>\n",
       "      <th>SSR</th>\n",
       "      <th>LULD_BBO_CQS</th>\n",
       "      <th>LULD_BBO_UTP</th>\n",
       "      <th>FINRA_ADF_MPID</th>\n",
       "    </tr>\n",
       "  </thead>\n",
       "  <tbody>\n",
       "    <tr>\n",
       "      <th>0</th>\n",
       "      <td>2013-06-06</td>\n",
       "      <td>04:00:00.210000</td>\n",
       "      <td>P</td>\n",
       "      <td>MUR</td>\n",
       "      <td>NaN</td>\n",
       "      <td>59.74</td>\n",
       "      <td>2</td>\n",
       "      <td>0.00</td>\n",
       "      <td>0</td>\n",
       "      <td>R</td>\n",
       "      <td>...</td>\n",
       "      <td>106</td>\n",
       "      <td>1.0</td>\n",
       "      <td>2</td>\n",
       "      <td>NaN</td>\n",
       "      <td>C</td>\n",
       "      <td>NaN</td>\n",
       "      <td>NaN</td>\n",
       "      <td>NaN</td>\n",
       "      <td>NaN</td>\n",
       "      <td>NaN</td>\n",
       "    </tr>\n",
       "    <tr>\n",
       "      <th>1</th>\n",
       "      <td>2013-06-06</td>\n",
       "      <td>06:41:12.578000</td>\n",
       "      <td>P</td>\n",
       "      <td>MUR</td>\n",
       "      <td>NaN</td>\n",
       "      <td>59.74</td>\n",
       "      <td>2</td>\n",
       "      <td>66.47</td>\n",
       "      <td>1</td>\n",
       "      <td>R</td>\n",
       "      <td>...</td>\n",
       "      <td>63485</td>\n",
       "      <td>1.0</td>\n",
       "      <td>2</td>\n",
       "      <td>NaN</td>\n",
       "      <td>C</td>\n",
       "      <td>NaN</td>\n",
       "      <td>NaN</td>\n",
       "      <td>NaN</td>\n",
       "      <td>NaN</td>\n",
       "      <td>NaN</td>\n",
       "    </tr>\n",
       "    <tr>\n",
       "      <th>2</th>\n",
       "      <td>2013-06-06</td>\n",
       "      <td>06:42:12.021000</td>\n",
       "      <td>P</td>\n",
       "      <td>MUR</td>\n",
       "      <td>NaN</td>\n",
       "      <td>59.75</td>\n",
       "      <td>2</td>\n",
       "      <td>66.47</td>\n",
       "      <td>1</td>\n",
       "      <td>R</td>\n",
       "      <td>...</td>\n",
       "      <td>63961</td>\n",
       "      <td>1.0</td>\n",
       "      <td>2</td>\n",
       "      <td>NaN</td>\n",
       "      <td>C</td>\n",
       "      <td>NaN</td>\n",
       "      <td>NaN</td>\n",
       "      <td>NaN</td>\n",
       "      <td>NaN</td>\n",
       "      <td>NaN</td>\n",
       "    </tr>\n",
       "    <tr>\n",
       "      <th>3</th>\n",
       "      <td>2013-06-06</td>\n",
       "      <td>06:42:12.237000</td>\n",
       "      <td>P</td>\n",
       "      <td>MUR</td>\n",
       "      <td>NaN</td>\n",
       "      <td>59.75</td>\n",
       "      <td>2</td>\n",
       "      <td>66.46</td>\n",
       "      <td>2</td>\n",
       "      <td>R</td>\n",
       "      <td>...</td>\n",
       "      <td>63962</td>\n",
       "      <td>1.0</td>\n",
       "      <td>2</td>\n",
       "      <td>NaN</td>\n",
       "      <td>C</td>\n",
       "      <td>NaN</td>\n",
       "      <td>NaN</td>\n",
       "      <td>NaN</td>\n",
       "      <td>NaN</td>\n",
       "      <td>NaN</td>\n",
       "    </tr>\n",
       "    <tr>\n",
       "      <th>4</th>\n",
       "      <td>2013-06-06</td>\n",
       "      <td>07:22:12.075000</td>\n",
       "      <td>P</td>\n",
       "      <td>MUR</td>\n",
       "      <td>NaN</td>\n",
       "      <td>59.74</td>\n",
       "      <td>2</td>\n",
       "      <td>66.46</td>\n",
       "      <td>2</td>\n",
       "      <td>R</td>\n",
       "      <td>...</td>\n",
       "      <td>80551</td>\n",
       "      <td>1.0</td>\n",
       "      <td>2</td>\n",
       "      <td>NaN</td>\n",
       "      <td>C</td>\n",
       "      <td>NaN</td>\n",
       "      <td>NaN</td>\n",
       "      <td>NaN</td>\n",
       "      <td>NaN</td>\n",
       "      <td>NaN</td>\n",
       "    </tr>\n",
       "  </tbody>\n",
       "</table>\n",
       "<p>5 rows × 22 columns</p>\n",
       "</div>"
      ],
      "text/plain": [
       "        DATE           TIME_M EX SYM_ROOT  SYM_SUFFIX    BID  BIDSIZ    ASK  \\\n",
       "0 2013-06-06  04:00:00.210000  P      MUR         NaN  59.74       2   0.00   \n",
       "1 2013-06-06  06:41:12.578000  P      MUR         NaN  59.74       2  66.47   \n",
       "2 2013-06-06  06:42:12.021000  P      MUR         NaN  59.75       2  66.47   \n",
       "3 2013-06-06  06:42:12.237000  P      MUR         NaN  59.75       2  66.46   \n",
       "4 2013-06-06  07:22:12.075000  P      MUR         NaN  59.74       2  66.46   \n",
       "\n",
       "   ASKSIZ QU_COND       ...       QU_SEQNUM NATBBO_IND  NASDBBO_IND  \\\n",
       "0       0       R       ...             106        1.0            2   \n",
       "1       1       R       ...           63485        1.0            2   \n",
       "2       1       R       ...           63961        1.0            2   \n",
       "3       2       R       ...           63962        1.0            2   \n",
       "4       2       R       ...           80551        1.0            2   \n",
       "\n",
       "   QU_CANCEL  QU_SOURCE  RPI SSR LULD_BBO_CQS  LULD_BBO_UTP  FINRA_ADF_MPID  \n",
       "0        NaN          C  NaN NaN          NaN           NaN             NaN  \n",
       "1        NaN          C  NaN NaN          NaN           NaN             NaN  \n",
       "2        NaN          C  NaN NaN          NaN           NaN             NaN  \n",
       "3        NaN          C  NaN NaN          NaN           NaN             NaN  \n",
       "4        NaN          C  NaN NaN          NaN           NaN             NaN  \n",
       "\n",
       "[5 rows x 22 columns]"
      ]
     },
     "execution_count": 4,
     "metadata": {},
     "output_type": "execute_result"
    }
   ],
   "source": [
    "quote.head()"
   ]
  },
  {
   "cell_type": "code",
   "execution_count": 5,
   "metadata": {
    "collapsed": false
   },
   "outputs": [
    {
     "data": {
      "text/html": [
       "<div>\n",
       "<table border=\"1\" class=\"dataframe\">\n",
       "  <thead>\n",
       "    <tr style=\"text-align: right;\">\n",
       "      <th></th>\n",
       "      <th>DATE</th>\n",
       "      <th>TIME_M</th>\n",
       "      <th>EX</th>\n",
       "      <th>SYM_ROOT</th>\n",
       "      <th>SYM_SUFFIX</th>\n",
       "      <th>BID</th>\n",
       "      <th>BIDSIZ</th>\n",
       "      <th>ASK</th>\n",
       "      <th>ASKSIZ</th>\n",
       "      <th>QU_COND</th>\n",
       "      <th>...</th>\n",
       "      <th>BEST_BID_MM_LOCATION</th>\n",
       "      <th>BEST_BID_MM_DESK_LOCATION</th>\n",
       "      <th>BEST_ASKEX</th>\n",
       "      <th>BEST_ASK</th>\n",
       "      <th>BEST_ASKSIZ</th>\n",
       "      <th>BEST_ASK_MM</th>\n",
       "      <th>BEST_ASK_MM_LOCATION</th>\n",
       "      <th>BEST_ASK_MM_DESK_LOCATION</th>\n",
       "      <th>LULD_NBBO_CQS</th>\n",
       "      <th>LULD_NBBO_UTP</th>\n",
       "    </tr>\n",
       "  </thead>\n",
       "  <tbody>\n",
       "    <tr>\n",
       "      <th>0</th>\n",
       "      <td>2013-06-06</td>\n",
       "      <td>08:00:02.693000</td>\n",
       "      <td>P</td>\n",
       "      <td>MUR</td>\n",
       "      <td>NaN</td>\n",
       "      <td>63.17</td>\n",
       "      <td>3</td>\n",
       "      <td>0.00</td>\n",
       "      <td>0</td>\n",
       "      <td>R</td>\n",
       "      <td>...</td>\n",
       "      <td>NaN</td>\n",
       "      <td>NaN</td>\n",
       "      <td>T</td>\n",
       "      <td>64.25</td>\n",
       "      <td>1</td>\n",
       "      <td>NaN</td>\n",
       "      <td>NaN</td>\n",
       "      <td>NaN</td>\n",
       "      <td>NaN</td>\n",
       "      <td>NaN</td>\n",
       "    </tr>\n",
       "    <tr>\n",
       "      <th>1</th>\n",
       "      <td>2013-06-06</td>\n",
       "      <td>08:00:10.788000</td>\n",
       "      <td>P</td>\n",
       "      <td>MUR</td>\n",
       "      <td>NaN</td>\n",
       "      <td>59.74</td>\n",
       "      <td>2</td>\n",
       "      <td>0.00</td>\n",
       "      <td>0</td>\n",
       "      <td>R</td>\n",
       "      <td>...</td>\n",
       "      <td>NaN</td>\n",
       "      <td>NaN</td>\n",
       "      <td>T</td>\n",
       "      <td>64.25</td>\n",
       "      <td>1</td>\n",
       "      <td>NaN</td>\n",
       "      <td>NaN</td>\n",
       "      <td>NaN</td>\n",
       "      <td>NaN</td>\n",
       "      <td>NaN</td>\n",
       "    </tr>\n",
       "    <tr>\n",
       "      <th>2</th>\n",
       "      <td>2013-06-06</td>\n",
       "      <td>08:00:29.278000</td>\n",
       "      <td>Z</td>\n",
       "      <td>MUR</td>\n",
       "      <td>NaN</td>\n",
       "      <td>62.36</td>\n",
       "      <td>9</td>\n",
       "      <td>64.24</td>\n",
       "      <td>2</td>\n",
       "      <td>R</td>\n",
       "      <td>...</td>\n",
       "      <td>NaN</td>\n",
       "      <td>NaN</td>\n",
       "      <td>Z</td>\n",
       "      <td>64.24</td>\n",
       "      <td>2</td>\n",
       "      <td>NaN</td>\n",
       "      <td>NaN</td>\n",
       "      <td>NaN</td>\n",
       "      <td>NaN</td>\n",
       "      <td>NaN</td>\n",
       "    </tr>\n",
       "    <tr>\n",
       "      <th>3</th>\n",
       "      <td>2013-06-06</td>\n",
       "      <td>08:13:20.821000</td>\n",
       "      <td>Z</td>\n",
       "      <td>MUR</td>\n",
       "      <td>NaN</td>\n",
       "      <td>62.36</td>\n",
       "      <td>9</td>\n",
       "      <td>64.24</td>\n",
       "      <td>2</td>\n",
       "      <td>R</td>\n",
       "      <td>...</td>\n",
       "      <td>NaN</td>\n",
       "      <td>NaN</td>\n",
       "      <td>Z</td>\n",
       "      <td>64.24</td>\n",
       "      <td>2</td>\n",
       "      <td>NaN</td>\n",
       "      <td>NaN</td>\n",
       "      <td>NaN</td>\n",
       "      <td>NaN</td>\n",
       "      <td>NaN</td>\n",
       "    </tr>\n",
       "    <tr>\n",
       "      <th>4</th>\n",
       "      <td>2013-06-06</td>\n",
       "      <td>08:13:31.440000</td>\n",
       "      <td>Z</td>\n",
       "      <td>MUR</td>\n",
       "      <td>NaN</td>\n",
       "      <td>62.36</td>\n",
       "      <td>9</td>\n",
       "      <td>64.33</td>\n",
       "      <td>12</td>\n",
       "      <td>R</td>\n",
       "      <td>...</td>\n",
       "      <td>NaN</td>\n",
       "      <td>NaN</td>\n",
       "      <td>T</td>\n",
       "      <td>64.25</td>\n",
       "      <td>1</td>\n",
       "      <td>NaN</td>\n",
       "      <td>NaN</td>\n",
       "      <td>NaN</td>\n",
       "      <td>NaN</td>\n",
       "      <td>NaN</td>\n",
       "    </tr>\n",
       "  </tbody>\n",
       "</table>\n",
       "<p>5 rows × 33 columns</p>\n",
       "</div>"
      ],
      "text/plain": [
       "        DATE           TIME_M EX SYM_ROOT  SYM_SUFFIX    BID  BIDSIZ    ASK  \\\n",
       "0 2013-06-06  08:00:02.693000  P      MUR         NaN  63.17       3   0.00   \n",
       "1 2013-06-06  08:00:10.788000  P      MUR         NaN  59.74       2   0.00   \n",
       "2 2013-06-06  08:00:29.278000  Z      MUR         NaN  62.36       9  64.24   \n",
       "3 2013-06-06  08:13:20.821000  Z      MUR         NaN  62.36       9  64.24   \n",
       "4 2013-06-06  08:13:31.440000  Z      MUR         NaN  62.36       9  64.33   \n",
       "\n",
       "   ASKSIZ QU_COND      ...       BEST_BID_MM_LOCATION  \\\n",
       "0       0       R      ...                        NaN   \n",
       "1       0       R      ...                        NaN   \n",
       "2       2       R      ...                        NaN   \n",
       "3       2       R      ...                        NaN   \n",
       "4      12       R      ...                        NaN   \n",
       "\n",
       "  BEST_BID_MM_DESK_LOCATION BEST_ASKEX  BEST_ASK  BEST_ASKSIZ  BEST_ASK_MM  \\\n",
       "0                       NaN          T     64.25            1          NaN   \n",
       "1                       NaN          T     64.25            1          NaN   \n",
       "2                       NaN          Z     64.24            2          NaN   \n",
       "3                       NaN          Z     64.24            2          NaN   \n",
       "4                       NaN          T     64.25            1          NaN   \n",
       "\n",
       "  BEST_ASK_MM_LOCATION BEST_ASK_MM_DESK_LOCATION LULD_NBBO_CQS LULD_NBBO_UTP  \n",
       "0                  NaN                       NaN           NaN           NaN  \n",
       "1                  NaN                       NaN           NaN           NaN  \n",
       "2                  NaN                       NaN           NaN           NaN  \n",
       "3                  NaN                       NaN           NaN           NaN  \n",
       "4                  NaN                       NaN           NaN           NaN  \n",
       "\n",
       "[5 rows x 33 columns]"
      ]
     },
     "execution_count": 5,
     "metadata": {},
     "output_type": "execute_result"
    }
   ],
   "source": [
    "nbbo.head()"
   ]
  },
  {
   "cell_type": "code",
   "execution_count": 6,
   "metadata": {
    "collapsed": false
   },
   "outputs": [
    {
     "data": {
      "text/plain": [
       "(15062, 13)"
      ]
     },
     "execution_count": 6,
     "metadata": {},
     "output_type": "execute_result"
    }
   ],
   "source": [
    "trade.shape"
   ]
  },
  {
   "cell_type": "code",
   "execution_count": 7,
   "metadata": {
    "collapsed": false
   },
   "outputs": [
    {
     "data": {
      "text/plain": [
       "(499570, 22)"
      ]
     },
     "execution_count": 7,
     "metadata": {},
     "output_type": "execute_result"
    }
   ],
   "source": [
    "quote.shape"
   ]
  },
  {
   "cell_type": "code",
   "execution_count": 8,
   "metadata": {
    "collapsed": false
   },
   "outputs": [
    {
     "data": {
      "text/plain": [
       "(106540, 33)"
      ]
     },
     "execution_count": 8,
     "metadata": {},
     "output_type": "execute_result"
    }
   ],
   "source": [
    "nbbo.shape"
   ]
  },
  {
   "cell_type": "code",
   "execution_count": 9,
   "metadata": {
    "collapsed": false
   },
   "outputs": [
    {
     "data": {
      "text/plain": [
       "['DATE',\n",
       " 'TIME_M',\n",
       " 'EX',\n",
       " 'SYM_ROOT',\n",
       " 'SYM_SUFFIX',\n",
       " 'TR_SCOND',\n",
       " 'SIZE',\n",
       " 'PRICE',\n",
       " 'TR_STOPIND',\n",
       " 'TR_CORR',\n",
       " 'TR_SEQNUM',\n",
       " 'TR_SOURCE',\n",
       " 'TR_RF']"
      ]
     },
     "execution_count": 9,
     "metadata": {},
     "output_type": "execute_result"
    }
   ],
   "source": [
    "list(trade)"
   ]
  },
  {
   "cell_type": "code",
   "execution_count": 11,
   "metadata": {
    "collapsed": false
   },
   "outputs": [
    {
     "data": {
      "text/plain": [
       "['DATE',\n",
       " 'TIME_M',\n",
       " 'EX',\n",
       " 'SYM_ROOT',\n",
       " 'SYM_SUFFIX',\n",
       " 'BID',\n",
       " 'BIDSIZ',\n",
       " 'ASK',\n",
       " 'ASKSIZ',\n",
       " 'QU_COND',\n",
       " 'BIDEX',\n",
       " 'ASKEX',\n",
       " 'QU_SEQNUM',\n",
       " 'NATBBO_IND',\n",
       " 'NASDBBO_IND',\n",
       " 'QU_CANCEL',\n",
       " 'QU_SOURCE',\n",
       " 'RPI',\n",
       " 'SSR',\n",
       " 'LULD_BBO_CQS',\n",
       " 'LULD_BBO_UTP',\n",
       " 'FINRA_ADF_MPID']"
      ]
     },
     "execution_count": 11,
     "metadata": {},
     "output_type": "execute_result"
    }
   ],
   "source": [
    "list(quote)"
   ]
  },
  {
   "cell_type": "code",
   "execution_count": 12,
   "metadata": {
    "collapsed": false
   },
   "outputs": [
    {
     "data": {
      "text/plain": [
       "['DATE',\n",
       " 'TIME_M',\n",
       " 'EX',\n",
       " 'SYM_ROOT',\n",
       " 'SYM_SUFFIX',\n",
       " 'BID',\n",
       " 'BIDSIZ',\n",
       " 'ASK',\n",
       " 'ASKSIZ',\n",
       " 'QU_COND',\n",
       " 'MMID',\n",
       " 'BIDEX',\n",
       " 'ASKEX',\n",
       " 'QU_SEQNUM',\n",
       " 'NATBBO_IND',\n",
       " 'NASDBBO_IND',\n",
       " 'QU_CANCEL',\n",
       " 'QU_SOURCE',\n",
       " 'NBBO_QU_COND',\n",
       " 'BEST_BIDEX',\n",
       " 'BEST_BID',\n",
       " 'BEST_BIDSIZ',\n",
       " 'BEST_BID_MM',\n",
       " 'BEST_BID_MM_LOCATION',\n",
       " 'BEST_BID_MM_DESK_LOCATION',\n",
       " 'BEST_ASKEX',\n",
       " 'BEST_ASK',\n",
       " 'BEST_ASKSIZ',\n",
       " 'BEST_ASK_MM',\n",
       " 'BEST_ASK_MM_LOCATION',\n",
       " 'BEST_ASK_MM_DESK_LOCATION',\n",
       " 'LULD_NBBO_CQS',\n",
       " 'LULD_NBBO_UTP']"
      ]
     },
     "execution_count": 12,
     "metadata": {},
     "output_type": "execute_result"
    }
   ],
   "source": [
    "list(nbbo)"
   ]
  },
  {
   "cell_type": "markdown",
   "metadata": {},
   "source": [
    "# Data"
   ]
  },
  {
   "cell_type": "code",
   "execution_count": 19,
   "metadata": {
    "collapsed": true
   },
   "outputs": [],
   "source": [
    "trade_mur = trade.loc[trade['SYM_ROOT'] == 'MUR']\n",
    "trade_pdco = trade.loc[trade['SYM_ROOT'] == 'PDCO']"
   ]
  },
  {
   "cell_type": "code",
   "execution_count": 16,
   "metadata": {
    "collapsed": true
   },
   "outputs": [],
   "source": [
    "quote_mur = quote.loc[quote['SYM_ROOT'] == 'MUR']\n",
    "quote_pdco = quote.loc[quote['SYM_ROOT'] == 'PDCO']"
   ]
  },
  {
   "cell_type": "code",
   "execution_count": 20,
   "metadata": {
    "collapsed": true
   },
   "outputs": [],
   "source": [
    "nbbo_mur = nbbo.loc[nbbo['SYM_ROOT'] == 'MUR']\n",
    "nbbo_pdco = nbbo.loc[nbbo['SYM_ROOT'] == 'PDCO']"
   ]
  },
  {
   "cell_type": "code",
   "execution_count": 21,
   "metadata": {
    "collapsed": false
   },
   "outputs": [
    {
     "data": {
      "text/plain": [
       "(9312, 13)"
      ]
     },
     "execution_count": 21,
     "metadata": {},
     "output_type": "execute_result"
    }
   ],
   "source": [
    "trade_mur.shape"
   ]
  },
  {
   "cell_type": "code",
   "execution_count": 22,
   "metadata": {
    "collapsed": false
   },
   "outputs": [
    {
     "data": {
      "text/plain": [
       "(5750, 13)"
      ]
     },
     "execution_count": 22,
     "metadata": {},
     "output_type": "execute_result"
    }
   ],
   "source": [
    "trade_pdco.shape"
   ]
  },
  {
   "cell_type": "code",
   "execution_count": 17,
   "metadata": {
    "collapsed": false
   },
   "outputs": [
    {
     "data": {
      "text/plain": [
       "(345789, 22)"
      ]
     },
     "execution_count": 17,
     "metadata": {},
     "output_type": "execute_result"
    }
   ],
   "source": [
    "quote_mur.shape"
   ]
  },
  {
   "cell_type": "code",
   "execution_count": 18,
   "metadata": {
    "collapsed": false
   },
   "outputs": [
    {
     "data": {
      "text/plain": [
       "(153781, 22)"
      ]
     },
     "execution_count": 18,
     "metadata": {},
     "output_type": "execute_result"
    }
   ],
   "source": [
    "quote_pdco.shape"
   ]
  },
  {
   "cell_type": "code",
   "execution_count": 24,
   "metadata": {
    "collapsed": false
   },
   "outputs": [
    {
     "data": {
      "text/plain": [
       "(63383, 33)"
      ]
     },
     "execution_count": 24,
     "metadata": {},
     "output_type": "execute_result"
    }
   ],
   "source": [
    "nbbo_mur.shape"
   ]
  },
  {
   "cell_type": "code",
   "execution_count": 25,
   "metadata": {
    "collapsed": false
   },
   "outputs": [
    {
     "data": {
      "text/plain": [
       "(43157, 33)"
      ]
     },
     "execution_count": 25,
     "metadata": {},
     "output_type": "execute_result"
    }
   ],
   "source": [
    "nbbo_pdco.shape"
   ]
  },
  {
   "cell_type": "code",
   "execution_count": 26,
   "metadata": {
    "collapsed": false
   },
   "outputs": [
    {
     "data": {
      "text/html": [
       "<div>\n",
       "<table border=\"1\" class=\"dataframe\">\n",
       "  <thead>\n",
       "    <tr style=\"text-align: right;\">\n",
       "      <th></th>\n",
       "      <th>DATE</th>\n",
       "      <th>TIME_M</th>\n",
       "      <th>EX</th>\n",
       "      <th>SYM_ROOT</th>\n",
       "      <th>SYM_SUFFIX</th>\n",
       "      <th>TR_SCOND</th>\n",
       "      <th>SIZE</th>\n",
       "      <th>PRICE</th>\n",
       "      <th>TR_STOPIND</th>\n",
       "      <th>TR_CORR</th>\n",
       "      <th>TR_SEQNUM</th>\n",
       "      <th>TR_SOURCE</th>\n",
       "      <th>TR_RF</th>\n",
       "    </tr>\n",
       "  </thead>\n",
       "  <tbody>\n",
       "    <tr>\n",
       "      <th>9312</th>\n",
       "      <td>2013-06-06</td>\n",
       "      <td>09:29:59.556000</td>\n",
       "      <td>Q</td>\n",
       "      <td>PDCO</td>\n",
       "      <td>NaN</td>\n",
       "      <td>@FT</td>\n",
       "      <td>200</td>\n",
       "      <td>38.19</td>\n",
       "      <td>NaN</td>\n",
       "      <td>0</td>\n",
       "      <td>6427</td>\n",
       "      <td>N</td>\n",
       "      <td>NaN</td>\n",
       "    </tr>\n",
       "    <tr>\n",
       "      <th>9313</th>\n",
       "      <td>2013-06-06</td>\n",
       "      <td>09:30:00.395000</td>\n",
       "      <td>Q</td>\n",
       "      <td>PDCO</td>\n",
       "      <td>NaN</td>\n",
       "      <td>@O X</td>\n",
       "      <td>3893</td>\n",
       "      <td>38.48</td>\n",
       "      <td>NaN</td>\n",
       "      <td>0</td>\n",
       "      <td>6751</td>\n",
       "      <td>N</td>\n",
       "      <td>NaN</td>\n",
       "    </tr>\n",
       "    <tr>\n",
       "      <th>9314</th>\n",
       "      <td>2013-06-06</td>\n",
       "      <td>09:30:00.395000</td>\n",
       "      <td>Q</td>\n",
       "      <td>PDCO</td>\n",
       "      <td>NaN</td>\n",
       "      <td>Q</td>\n",
       "      <td>3893</td>\n",
       "      <td>38.48</td>\n",
       "      <td>NaN</td>\n",
       "      <td>0</td>\n",
       "      <td>6752</td>\n",
       "      <td>N</td>\n",
       "      <td>NaN</td>\n",
       "    </tr>\n",
       "    <tr>\n",
       "      <th>9315</th>\n",
       "      <td>2013-06-06</td>\n",
       "      <td>09:30:00.896000</td>\n",
       "      <td>Q</td>\n",
       "      <td>PDCO</td>\n",
       "      <td>NaN</td>\n",
       "      <td>@F</td>\n",
       "      <td>200</td>\n",
       "      <td>38.19</td>\n",
       "      <td>NaN</td>\n",
       "      <td>0</td>\n",
       "      <td>7319</td>\n",
       "      <td>N</td>\n",
       "      <td>NaN</td>\n",
       "    </tr>\n",
       "    <tr>\n",
       "      <th>9316</th>\n",
       "      <td>2013-06-06</td>\n",
       "      <td>09:30:00.896000</td>\n",
       "      <td>Q</td>\n",
       "      <td>PDCO</td>\n",
       "      <td>NaN</td>\n",
       "      <td>@F</td>\n",
       "      <td>100</td>\n",
       "      <td>38.05</td>\n",
       "      <td>NaN</td>\n",
       "      <td>0</td>\n",
       "      <td>7320</td>\n",
       "      <td>N</td>\n",
       "      <td>NaN</td>\n",
       "    </tr>\n",
       "  </tbody>\n",
       "</table>\n",
       "</div>"
      ],
      "text/plain": [
       "           DATE           TIME_M EX SYM_ROOT  SYM_SUFFIX TR_SCOND  SIZE  \\\n",
       "9312 2013-06-06  09:29:59.556000  Q     PDCO         NaN      @FT   200   \n",
       "9313 2013-06-06  09:30:00.395000  Q     PDCO         NaN     @O X  3893   \n",
       "9314 2013-06-06  09:30:00.395000  Q     PDCO         NaN        Q  3893   \n",
       "9315 2013-06-06  09:30:00.896000  Q     PDCO         NaN       @F   200   \n",
       "9316 2013-06-06  09:30:00.896000  Q     PDCO         NaN       @F   100   \n",
       "\n",
       "      PRICE TR_STOPIND  TR_CORR  TR_SEQNUM TR_SOURCE TR_RF  \n",
       "9312  38.19        NaN        0       6427         N   NaN  \n",
       "9313  38.48        NaN        0       6751         N   NaN  \n",
       "9314  38.48        NaN        0       6752         N   NaN  \n",
       "9315  38.19        NaN        0       7319         N   NaN  \n",
       "9316  38.05        NaN        0       7320         N   NaN  "
      ]
     },
     "execution_count": 26,
     "metadata": {},
     "output_type": "execute_result"
    }
   ],
   "source": [
    "trade_pdco.head()"
   ]
  },
  {
   "cell_type": "code",
   "execution_count": null,
   "metadata": {
    "collapsed": true
   },
   "outputs": [],
   "source": []
  }
 ],
 "metadata": {
  "kernelspec": {
   "display_name": "Python 3",
   "language": "python",
   "name": "python3"
  },
  "language_info": {
   "codemirror_mode": {
    "name": "ipython",
    "version": 3
   },
   "file_extension": ".py",
   "mimetype": "text/x-python",
   "name": "python",
   "nbconvert_exporter": "python",
   "pygments_lexer": "ipython3",
   "version": "3.5.2"
  },
  "toc": {
   "colors": {
    "hover_highlight": "#DAA520",
    "running_highlight": "#FF0000",
    "selected_highlight": "#FFD700"
   },
   "moveMenuLeft": true,
   "nav_menu": {
    "height": "48px",
    "width": "252px"
   },
   "navigate_menu": true,
   "number_sections": true,
   "sideBar": true,
   "threshold": 4,
   "toc_cell": false,
   "toc_section_display": "block",
   "toc_window_display": false
  }
 },
 "nbformat": 4,
 "nbformat_minor": 2
}
